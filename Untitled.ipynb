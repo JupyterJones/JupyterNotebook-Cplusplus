{
 "cells": [
  {
   "cell_type": "code",
   "execution_count": null,
   "metadata": {},
   "outputs": [],
   "source": [
    "Traceback (most recent call last):\n",
    "  File \"/media/jack/40ec525c-34bc-44ef-99c8-53f5524ad88b/home/jack/anaconda2/lib/python2.7/site-packages/tornado/web.py\", line 1543, in _execute\n",
    "    result = yield result\n",
    "  File \"/media/jack/40ec525c-34bc-44ef-99c8-53f5524ad88b/home/jack/anaconda2/lib/python2.7/site-packages/tornado/gen.py\", line 1099, in run\n",
    "    value = future.result()\n",
    "  File \"/media/jack/40ec525c-34bc-44ef-99c8-53f5524ad88b/home/jack/anaconda2/lib/python2.7/site-packages/tornado/concurrent.py\", line 260, in result\n",
    "    raise_exc_info(self._exc_info)\n",
    "  File \"/media/jack/40ec525c-34bc-44ef-99c8-53f5524ad88b/home/jack/anaconda2/lib/python2.7/site-packages/tornado/gen.py\", line 1107, in run\n",
    "    yielded = self.gen.throw(*exc_info)\n",
    "  File \"/media/jack/40ec525c-34bc-44ef-99c8-53f5524ad88b/home/jack/anaconda2/lib/python2.7/site-packages/notebook/services/sessions/handlers.py\", line 73, in post\n",
    "    type=mtype))\n",
    "  File \"/media/jack/40ec525c-34bc-44ef-99c8-53f5524ad88b/home/jack/anaconda2/lib/python2.7/site-packages/tornado/gen.py\", line 1099, in run\n",
    "    value = future.result()\n",
    "  File \"/media/jack/40ec525c-34bc-44ef-99c8-53f5524ad88b/home/jack/anaconda2/lib/python2.7/site-packages/tornado/concurrent.py\", line 260, in result\n",
    "    raise_exc_info(self._exc_info)\n",
    "  File \"/media/jack/40ec525c-34bc-44ef-99c8-53f5524ad88b/home/jack/anaconda2/lib/python2.7/site-packages/tornado/gen.py\", line 1107, in run\n",
    "    yielded = self.gen.throw(*exc_info)\n",
    "  File \"/media/jack/40ec525c-34bc-44ef-99c8-53f5524ad88b/home/jack/anaconda2/lib/python2.7/site-packages/notebook/services/sessions/sessionmanager.py\", line 79, in create_session\n",
    "    kernel_id = yield self.start_kernel_for_session(session_id, path, name, type, kernel_name)\n",
    "  File \"/media/jack/40ec525c-34bc-44ef-99c8-53f5524ad88b/home/jack/anaconda2/lib/python2.7/site-packages/tornado/gen.py\", line 1099, in run\n",
    "    value = future.result()\n",
    "  File \"/media/jack/40ec525c-34bc-44ef-99c8-53f5524ad88b/home/jack/anaconda2/lib/python2.7/site-packages/tornado/concurrent.py\", line 260, in result\n",
    "    raise_exc_info(self._exc_info)\n",
    "  File \"/media/jack/40ec525c-34bc-44ef-99c8-53f5524ad88b/home/jack/anaconda2/lib/python2.7/site-packages/tornado/gen.py\", line 1107, in run\n",
    "    yielded = self.gen.throw(*exc_info)\n",
    "  File \"/media/jack/40ec525c-34bc-44ef-99c8-53f5524ad88b/home/jack/anaconda2/lib/python2.7/site-packages/notebook/services/sessions/sessionmanager.py\", line 92, in start_kernel_for_session\n",
    "    self.kernel_manager.start_kernel(path=kernel_path, kernel_name=kernel_name)\n",
    "  File \"/media/jack/40ec525c-34bc-44ef-99c8-53f5524ad88b/home/jack/anaconda2/lib/python2.7/site-packages/tornado/gen.py\", line 1099, in run\n",
    "    value = future.result()\n",
    "  File \"/media/jack/40ec525c-34bc-44ef-99c8-53f5524ad88b/home/jack/anaconda2/lib/python2.7/site-packages/tornado/concurrent.py\", line 260, in result\n",
    "    raise_exc_info(self._exc_info)\n",
    "  File \"/media/jack/40ec525c-34bc-44ef-99c8-53f5524ad88b/home/jack/anaconda2/lib/python2.7/site-packages/tornado/gen.py\", line 315, in wrapper\n",
    "    yielded = next(result)\n",
    "  File \"/media/jack/40ec525c-34bc-44ef-99c8-53f5524ad88b/home/jack/anaconda2/lib/python2.7/site-packages/notebook/services/kernels/kernelmanager.py\", line 148, in start_kernel\n",
    "    super(MappingKernelManager, self).start_kernel(**kwargs)\n",
    "  File \"/media/jack/40ec525c-34bc-44ef-99c8-53f5524ad88b/home/jack/anaconda2/lib/python2.7/site-packages/jupyter_client/multikernelmanager.py\", line 110, in start_kernel\n",
    "    km.start_kernel(**kwargs)\n",
    "  File \"/media/jack/40ec525c-34bc-44ef-99c8-53f5524ad88b/home/jack/anaconda2/lib/python2.7/site-packages/jupyter_client/manager.py\", line 259, in start_kernel\n",
    "    **kw)\n",
    "  File \"/media/jack/40ec525c-34bc-44ef-99c8-53f5524ad88b/home/jack/anaconda2/lib/python2.7/site-packages/jupyter_client/manager.py\", line 204, in _launch_kernel\n",
    "    return launch_kernel(kernel_cmd, **kw)\n",
    "  File \"/media/jack/40ec525c-34bc-44ef-99c8-53f5524ad88b/home/jack/anaconda2/lib/python2.7/site-packages/jupyter_client/launcher.py\", line 128, in launch_kernel\n",
    "    proc = Popen(cmd, **kwargs)\n",
    "  File \"/media/jack/40ec525c-34bc-44ef-99c8-53f5524ad88b/home/jack/anaconda2/lib/python2.7/subprocess.py\", line 394, in __init__\n",
    "    errread, errwrite)\n",
    "  File \"/media/jack/40ec525c-34bc-44ef-99c8-53f5524ad88b/home/jack/anaconda2/lib/python2.7/subprocess.py\", line 1047, in _execute_child\n",
    "    raise child_exception\n",
    "OSError: [Errno 2] No such file or directory\n"
   ]
  }
 ],
 "metadata": {
  "kernelspec": {
   "display_name": "Xeus-C++14",
   "language": "C++14",
   "name": "xeus-cling-cpp14"
  }
 },
 "nbformat": 4,
 "nbformat_minor": 2
}
